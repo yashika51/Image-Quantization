{
 "cells": [
  {
   "cell_type": "code",
   "execution_count": null,
   "metadata": {},
   "outputs": [],
   "source": [
    "# Importing the necessary libraries\n",
    "import numpy as np\n",
    "import cv2\n",
    "import matplotlib.pyplot as plt\n",
    "%matplotlib inline\n",
    "plt.rcParams['figure.figsize']=[15,10]"
   ]
  },
  {
   "cell_type": "markdown",
   "metadata": {},
   "source": [
    "Getting the original image using imread() function.The shape of our image is (323, 500, 3) , where 3 represents the depth as R,G,B. "
   ]
  },
  {
   "cell_type": "code",
   "execution_count": null,
   "metadata": {},
   "outputs": [],
   "source": [
    "original_image=cv2.imread('img.jpg')\n",
    "original_image.shape # our image has 323*500 pixels"
   ]
  },
  {
   "cell_type": "code",
   "execution_count": null,
   "metadata": {},
   "outputs": [],
   "source": [
    "\n",
    "plt.imshow(original_image)"
   ]
  },
  {
   "cell_type": "markdown",
   "metadata": {},
   "source": [
    "Since , we can see the image is consisiting  more of a blue color set , that is beacuse by default cv2 reads image as BGR .We need to convert BGR to RGB."
   ]
  },
  {
   "cell_type": "code",
   "execution_count": null,
   "metadata": {},
   "outputs": [],
   "source": [
    "# converting BGR to RGB\n",
    "\n",
    "RGB_image=cv2.cvtColor(original_image,cv2.COLOR_BGR2RGB)\n",
    "\n",
    "# getting height,width and depth of our image\n",
    "\n",
    "h,w,d=RGB_image.shape\n",
    "\n",
    "#let's see what BGR vs RGB Image looks like\n",
    "plt.imshow(np.hstack([original_image,RGB_image]))\n"
   ]
  },
  {
   "cell_type": "code",
   "execution_count": null,
   "metadata": {},
   "outputs": [],
   "source": []
  },
  {
   "cell_type": "markdown",
   "metadata": {},
   "source": [
    "Now when we have the proper image , we are using MiniBatchKMeans to cluster similar colors together and reducing the number of bytes per pixel used.\n",
    "MiniBatchKMeans works similar as KMeans clustering , the difference is MiniBatch is faster as it does'nt take account of whole data at a time and rather uses batches of data for faster processing."
   ]
  },
  {
   "cell_type": "code",
   "execution_count": null,
   "metadata": {},
   "outputs": [],
   "source": [
    "#Before applying MiniBatchKMeans , we need to reshape our pixels to (h*w,d).\n",
    "RGB_image_reshaped=RGB_image.reshape(h*w,3)"
   ]
  },
  {
   "cell_type": "code",
   "execution_count": null,
   "metadata": {},
   "outputs": [],
   "source": [
    "#By default quantizing the image with k=8\n",
    "\n",
    "def quantization(n_clust=8):\n",
    "    from sklearn.cluster import MiniBatchKMeans\n",
    "    kmeans=MiniBatchKMeans(n_clusters=n_clust)\n",
    "    labels=kmeans.fit_predict(RGB_image_reshaped)\n",
    "    quantized=kmeans.cluster_centers_.astype('uint8')[labels]\n",
    "    return quantized"
   ]
  },
  {
   "cell_type": "code",
   "execution_count": null,
   "metadata": {},
   "outputs": [],
   "source": [
    "quant_image=quantization()\n",
    "quant_image.shape"
   ]
  },
  {
   "cell_type": "markdown",
   "metadata": {},
   "source": [
    "Reshaping image back to (h,w,d) for plotting it using imshow()."
   ]
  },
  {
   "cell_type": "code",
   "execution_count": null,
   "metadata": {},
   "outputs": [],
   "source": [
    "quant_image=quant_image.reshape(h,w,d)\n",
    "plt.imshow(quant_image)"
   ]
  },
  {
   "cell_type": "code",
   "execution_count": null,
   "metadata": {},
   "outputs": [],
   "source": [
    "#comparing original image and image after quantization\n",
    "plt.imshow((np.hstack([RGB_image,quant_image])))"
   ]
  },
  {
   "cell_type": "code",
   "execution_count": null,
   "metadata": {},
   "outputs": [],
   "source": []
  },
  {
   "cell_type": "markdown",
   "metadata": {},
   "source": [
    "Let us compare how different image looks like when k(no of clusters) is equal to 4,8,16,32 and 64"
   ]
  },
  {
   "cell_type": "code",
   "execution_count": null,
   "metadata": {},
   "outputs": [],
   "source": [
    "\n"
   ]
  },
  {
   "cell_type": "code",
   "execution_count": null,
   "metadata": {},
   "outputs": [],
   "source": [
    "l=[2,4,8,16,32,64]\n",
    "for i in l:\n",
    "    quant_image=quantization(n_clust=i)\n",
    "    print()\n",
    "    print('Image with k=',i)\n",
    "    quant_image=quant_image.reshape(h,w,d)\n",
    "    plt.imshow(quant_image)\n",
    "    plt.show()\n",
    "    print()\n",
    "    \n",
    "    \n",
    "    "
   ]
  },
  {
   "cell_type": "code",
   "execution_count": null,
   "metadata": {},
   "outputs": [],
   "source": []
  },
  {
   "cell_type": "markdown",
   "metadata": {},
   "source": [
    "#  Compression Ratio:\n",
    "\n",
    "Let us see how much we have compressed the image each time with different values of k.\n"
   ]
  },
  {
   "cell_type": "code",
   "execution_count": null,
   "metadata": {},
   "outputs": [],
   "source": []
  },
  {
   "cell_type": "code",
   "execution_count": null,
   "metadata": {
    "scrolled": true
   },
   "outputs": [],
   "source": [
    "def bits_per_pixel(n):\n",
    "    c=0\n",
    "    while (n//2)!=0:\n",
    "        n=n/2\n",
    "        c=c+1\n",
    "    return c\n",
    "\n",
    "# differnet values of k \n",
    "\n",
    "k=[2,4,8,16,32,64]\n",
    "\n",
    "\n",
    "\n",
    "def comp_ratio(k):\n",
    "    for i in k:\n",
    "        print(\"Bits used for k=\",i,\" is equal to :\",bits_per_pixel(i))\n",
    "    print(\"The compression ratio for all values of k compared to the original k=255 is :\")\n",
    "    \n",
    "    #k power 3 for depth=3 (RGB value) for k=255 and depth =3 No of bits per pixel=2**24\n",
    "    k3=[i**3 for i in k]\n",
    "    \n",
    "    ans=[(2**(bits_per_pixel(i)))/(2**24) for i in k3]\n",
    "    \n",
    "    return ans*100\n",
    "\n",
    "#Compression ratio of different values of k and k=255\n",
    "\n",
    "comp_ratio(k)\n"
   ]
  },
  {
   "cell_type": "code",
   "execution_count": null,
   "metadata": {},
   "outputs": [],
   "source": []
  },
  {
   "cell_type": "markdown",
   "metadata": {},
   "source": [
    "So, we saw how the two images differ, now to save the image we need to convert the RGB image back to BGR ."
   ]
  },
  {
   "cell_type": "code",
   "execution_count": null,
   "metadata": {},
   "outputs": [],
   "source": [
    "quantized_BGR=cv2.cvtColor(quant_image,cv2.COLOR_RGB2BGR)\n",
    "#plt.imshow(quantized_BGR)"
   ]
  },
  {
   "cell_type": "markdown",
   "metadata": {},
   "source": [
    "Saving the image using imwrite().The new image will be saved automatically with the name compressedimage."
   ]
  },
  {
   "cell_type": "code",
   "execution_count": null,
   "metadata": {},
   "outputs": [],
   "source": [
    "cv2.imwrite('compressedimage.png',quantized_BGR)"
   ]
  },
  {
   "cell_type": "code",
   "execution_count": null,
   "metadata": {},
   "outputs": [],
   "source": []
  },
  {
   "cell_type": "code",
   "execution_count": null,
   "metadata": {},
   "outputs": [],
   "source": []
  }
 ],
 "metadata": {
  "kernelspec": {
   "display_name": "Python 3",
   "language": "python",
   "name": "python3"
  },
  "language_info": {
   "codemirror_mode": {
    "name": "ipython",
    "version": 3
   },
   "file_extension": ".py",
   "mimetype": "text/x-python",
   "name": "python",
   "nbconvert_exporter": "python",
   "pygments_lexer": "ipython3",
   "version": "3.6.6"
  }
 },
 "nbformat": 4,
 "nbformat_minor": 2
}
